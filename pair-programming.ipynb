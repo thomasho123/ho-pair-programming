{
 "cells": [
  {
   "cell_type": "code",
   "execution_count": 29,
   "id": "40ffe545-f2f1-4836-a344-ba6b519ace5e",
   "metadata": {},
   "outputs": [],
   "source": [
    "import numpy as np\n",
    "import matplotlib.pyplot as plt\n",
    "import math as math"
   ]
  },
  {
   "cell_type": "markdown",
   "id": "6de3fa63-3bbb-4d08-89aa-dff689b898de",
   "metadata": {},
   "source": [
    "# 1"
   ]
  },
  {
   "cell_type": "code",
   "execution_count": 34,
   "id": "8b9567cf-7003-41c6-b273-15bc39725ecb",
   "metadata": {},
   "outputs": [],
   "source": [
    "def convFttoMt (feet, inches):\n",
    "    \"\"\" Coverts feet and inches into meters\n",
    "        \n",
    "        Input: int, float\n",
    "        \n",
    "        Output: float\n",
    "        ----------\n",
    "        returns: converted measurements into meters\n",
    "    \n",
    "    \"\"\"\n",
    "    return (feet+(inches/12))*.3048\n"
   ]
  },
  {
   "cell_type": "code",
   "execution_count": 31,
   "id": "76b083f5-6597-4387-af27-50f3f29b89ea",
   "metadata": {},
   "outputs": [],
   "source": []
  },
  {
   "cell_type": "code",
   "execution_count": 18,
   "id": "854b6d74-7673-488e-b4ad-04296f92bc53",
   "metadata": {},
   "outputs": [
    {
     "data": {
      "text/plain": [
       "1.524"
      ]
     },
     "execution_count": 18,
     "metadata": {},
     "output_type": "execute_result"
    }
   ],
   "source": [
    "\n"
   ]
  },
  {
   "cell_type": "code",
   "execution_count": 32,
   "id": "05ac5636-2bcc-4986-b215-dccfdfc0548d",
   "metadata": {},
   "outputs": [
    {
     "data": {
      "text/plain": [
       "1.4142135623730951"
      ]
     },
     "execution_count": 32,
     "metadata": {},
     "output_type": "execute_result"
    }
   ],
   "source": []
  },
  {
   "cell_type": "markdown",
   "id": "8c42f1bc-5e75-447a-bf22-99e808d46975",
   "metadata": {},
   "source": []
  },
  {
   "cell_type": "code",
   "execution_count": null,
   "id": "267a16b8-f729-40b3-aee5-d1a0b0960205",
   "metadata": {},
   "outputs": [],
   "source": []
  }
 ],
 "metadata": {
  "kernelspec": {
   "display_name": "Python 3 (ipykernel)",
   "language": "python",
   "name": "python3"
  },
  "language_info": {
   "codemirror_mode": {
    "name": "ipython",
    "version": 3
   },
   "file_extension": ".py",
   "mimetype": "text/x-python",
   "name": "python",
   "nbconvert_exporter": "python",
   "pygments_lexer": "ipython3",
   "version": "3.9.13"
  }
 },
 "nbformat": 4,
 "nbformat_minor": 5
}
